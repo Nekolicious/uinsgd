{
  "nbformat": 4,
  "nbformat_minor": 0,
  "metadata": {
    "colab": {
      "name": "FuzzyTsukamoto.ipynb",
      "provenance": [],
      "collapsed_sections": [],
      "toc_visible": true,
      "authorship_tag": "ABX9TyNt3koFU336jnhLfyKtkB1O",
      "include_colab_link": true
    },
    "kernelspec": {
      "name": "python3",
      "display_name": "Python 3"
    },
    "language_info": {
      "name": "python"
    }
  },
  "cells": [
    {
      "cell_type": "markdown",
      "metadata": {
        "id": "view-in-github",
        "colab_type": "text"
      },
      "source": [
        "<a href=\"https://colab.research.google.com/github/Nekolicious/uinsgd/blob/main/python/FuzzyTsukamoto.ipynb\" target=\"_parent\"><img src=\"https://colab.research.google.com/assets/colab-badge.svg\" alt=\"Open In Colab\"/></a>"
      ]
    },
    {
      "cell_type": "markdown",
      "metadata": {
        "id": "C0J7c1IBMCFP"
      },
      "source": [
        "#Aplikasi Penentuan Produksi\n",
        "\n",
        "\n",
        "---\n",
        "\n",
        "Logika Fuzzy Penerapan Metode Tsukamoto"
      ]
    },
    {
      "cell_type": "markdown",
      "metadata": {
        "id": "mQfAvpGtcG8L"
      },
      "source": [
        "#SOAL\n",
        "Sebuah perusahaan makanan kaleng akan memproduksi makanan jenis ABC.\n",
        "\n",
        "Dari data 1 bulan terakhir, permintaan terbesar hingga mencapai 5000 kemasan/hari, dan permintaan terkecil sampai 1000 kemasan/hari.\n",
        "\n",
        "Persediaan barang di gudang paling banyak sampai 600 kemasan/hari, dan paling sedikit sampai 100 kemasan/hari.\n",
        "\n",
        "Dengan segala keterbatasannya, sampai saat ini perusahaan mampu memproduksi barang maksimal 7000 kemasan/hari, serta demi efisiensi mesin dan SDM tiap hari diharapkan perusahaan memprosukdi paling tidak 2000 kemasan."
      ]
    },
    {
      "cell_type": "markdown",
      "metadata": {
        "id": "bAdR5PKoRVal"
      },
      "source": [
        "*   Rule 1 : Jika permintaan TURUN dan persediaan BANYAK maka produksi BERKKURANG\n",
        "*   Rule 2 : Jika permintaan TURUN dan persediaan SEDIKIT maka produksi BERKURANG\n",
        "*   Rule 3 : Jika permintaan TURUN dan persediaan SEDIKIT maka produksi BERTAMBAH\n",
        "*   Rule 4 : Jika permintaan NAIK dan persediaan BANYAK maka produksi BERTAMBAH"
      ]
    },
    {
      "cell_type": "markdown",
      "metadata": {
        "id": "4rEggGBPn2iV"
      },
      "source": [
        "Berapa banyak kemasan makanan jenis ABC yang harus diproduksi jika jumlah permintaan sebanyak 4000 kemasan, dan persediaan di gudang masih sisa 300 kemasan?"
      ]
    },
    {
      "cell_type": "code",
      "metadata": {
        "id": "2vK1DtDFr8QO"
      },
      "source": [
        "req_max = 5000 #permintaan terbesar\n",
        "req_min = 1000 #permintaan terkecil\n",
        "stock_max = 600 #stok terbanyak\n",
        "stock_min = 100 #stok terdikit\n",
        "\n",
        "#req / x = permintaan\n",
        "#stock / y = stok\n",
        "#prod / z = produksi\n",
        "\n",
        "x = 4000\n",
        "y = 300\n",
        "z = 0"
      ],
      "execution_count": 100,
      "outputs": []
    },
    {
      "cell_type": "code",
      "metadata": {
        "id": "jN0G2ShcrxeP"
      },
      "source": [
        "req_min = 1000\n",
        "req_max = 5000\n",
        "stock_min = 100\n",
        "stock_max = 600\n",
        "prod_min = 2000\n",
        "prod_max = 7000\n",
        "\n",
        "var_min = [req_min,stock_min,prod_min]\n",
        "var_max = [req_max,stock_max,prod_max]"
      ],
      "execution_count": 101,
      "outputs": []
    },
    {
      "cell_type": "code",
      "metadata": {
        "id": "10pUE5OxZwLX"
      },
      "source": [
        "def turun(b,a,x):\n",
        "    if(x<=a):\n",
        "        nilai = 1\n",
        "    elif(x>a and x<b):\n",
        "        nilai = (b-x)/(b-a)\n",
        "    elif(x>=b):\n",
        "        nilai = 0\n",
        "\n",
        "    return nilai"
      ],
      "execution_count": 102,
      "outputs": []
    },
    {
      "cell_type": "code",
      "metadata": {
        "id": "pMgsyR6SpPUh"
      },
      "source": [
        "def naik(b,a,x):\n",
        "    if(x<=a):\n",
        "        nilai = 0\n",
        "    elif(x>a and x<b):\n",
        "        nilai = (x-a)/(b-a)\n",
        "    elif(x>=b):\n",
        "        nilai = 1\n",
        "\n",
        "    return nilai"
      ],
      "execution_count": 103,
      "outputs": []
    },
    {
      "cell_type": "code",
      "metadata": {
        "id": "5seKqOU-pRLH"
      },
      "source": [
        "def agregasi_turun(b,a,alpha):\n",
        "    nilai = b - (alpha*(b-a))\n",
        "    return nilai"
      ],
      "execution_count": 104,
      "outputs": []
    },
    {
      "cell_type": "code",
      "metadata": {
        "id": "b2mQGQvepSfR"
      },
      "source": [
        "def agregasi_naik(b,a,alpha):\n",
        "    nilai = alpha*(b-a) + a\n",
        "    return nilai"
      ],
      "execution_count": 105,
      "outputs": []
    },
    {
      "cell_type": "code",
      "metadata": {
        "id": "6_H2K4bCpUuU"
      },
      "source": [
        "nama_var = [\"permintaan\",\"persediaan\",\"produksi\"]"
      ],
      "execution_count": 106,
      "outputs": []
    },
    {
      "cell_type": "code",
      "metadata": {
        "colab": {
          "base_uri": "https://localhost:8080/"
        },
        "id": "HRLB0F1MpWJF",
        "outputId": "a005e1fa-1895-4005-a58e-8a1457983ae4"
      },
      "source": [
        "variabel = dict()\n",
        "for i in range(3):\n",
        "    up = var_max[i]\n",
        "    down = var_min[i]\n",
        "    variabel.update({nama_var[i]+\"_max\":up})\n",
        "    variabel.update({nama_var[i]+\"_min\":down})\n",
        "print(variabel)"
      ],
      "execution_count": 107,
      "outputs": [
        {
          "output_type": "stream",
          "name": "stdout",
          "text": [
            "{'permintaan_max': 5000, 'permintaan_min': 1000, 'persediaan_max': 600, 'persediaan_min': 100, 'produksi_max': 7000, 'produksi_min': 2000}\n"
          ]
        }
      ]
    },
    {
      "cell_type": "code",
      "metadata": {
        "colab": {
          "base_uri": "https://localhost:8080/"
        },
        "id": "q8hovC9LpXTs",
        "outputId": "2de4946c-c92f-4b61-94ec-c37f34e5af2a"
      },
      "source": [
        "soal = dict()\n",
        "\n",
        "soal.update({nama_var[0]:x})\n",
        "soal.update({nama_var[1]:y})\n",
        "\n",
        "print(soal)\n",
        "\n",
        "dit = nama_var[2]"
      ],
      "execution_count": 108,
      "outputs": [
        {
          "output_type": "stream",
          "name": "stdout",
          "text": [
            "{'permintaan': 4000, 'persediaan': 300}\n"
          ]
        }
      ]
    },
    {
      "cell_type": "code",
      "metadata": {
        "colab": {
          "base_uri": "https://localhost:8080/"
        },
        "id": "DXq68_OUpYTu",
        "outputId": "929bbab5-cfa0-49cb-d68c-3e9a87cbf665"
      },
      "source": [
        "nk = dict()\n",
        "for i in soal:\n",
        "    up = naik(variabel[i+\"_max\"],variabel[i+\"_min\"],soal[i])\n",
        "    down = turun(variabel[i+\"_max\"],variabel[i+\"_min\"],soal[i])\n",
        "    nk.update({i+\"_naik\":up})\n",
        "    nk.update({i+\"_turun\":down})\n",
        "\n",
        "print(nk)"
      ],
      "execution_count": 109,
      "outputs": [
        {
          "output_type": "stream",
          "name": "stdout",
          "text": [
            "{'permintaan_naik': 0.75, 'permintaan_turun': 0.25, 'persediaan_naik': 0.4, 'persediaan_turun': 0.6}\n"
          ]
        }
      ]
    },
    {
      "cell_type": "code",
      "metadata": {
        "colab": {
          "base_uri": "https://localhost:8080/"
        },
        "id": "LxZANekUpaKm",
        "outputId": "cda163e5-23cc-4f36-9acb-55bfda2ad9e0"
      },
      "source": [
        "#AGREGASI\n",
        "alpha = []\n",
        "z = []\n",
        "\n",
        "kondisi = [[\"permintaan_turun\",\"permintaan_naik\"],[\"persediaan_naik\",\"persediaan_turun\"]]\n",
        "hasil = [\"turun\",\"naik\"]\n",
        "for i in range(2):\n",
        "  for j in range(2):\n",
        "    kondisi1 = kondisi[0][i]\n",
        "    kondisi2 = kondisi[1][j]\n",
        "    kesimpulan = hasil[i]\n",
        "\n",
        "    print(kondisi1+\", \"+kondisi2+\" : \"+kesimpulan)\n",
        "\n",
        "    a = min(nk[kondisi1],nk[kondisi2])\n",
        "    alpha.append(a)\n",
        "    if(kesimpulan == \"turun\"):\n",
        "        zz = agregasi_turun(variabel[dit+\"_max\"],variabel[dit+\"_min\"],a)\n",
        "    elif(kesimpulan == \"naik\"):\n",
        "        zz = agregasi_naik(variabel[dit+\"_max\"],variabel[dit+\"_min\"],a)   \n",
        "    else:\n",
        "        zz = 0\n",
        "    z.append(zz)\n",
        "\n",
        "print(alpha)\n",
        "print(z)"
      ],
      "execution_count": 145,
      "outputs": [
        {
          "output_type": "stream",
          "name": "stdout",
          "text": [
            "permintaan_turun, persediaan_naik : turun\n",
            "permintaan_turun, persediaan_turun : turun\n",
            "permintaan_naik, persediaan_naik : naik\n",
            "permintaan_naik, persediaan_turun : naik\n",
            "[0.25, 0.25, 0.4, 0.6]\n",
            "[5750.0, 5750.0, 4000.0, 5000.0]\n"
          ]
        }
      ]
    },
    {
      "cell_type": "code",
      "metadata": {
        "colab": {
          "base_uri": "https://localhost:8080/"
        },
        "id": "lF5TL2FBpd6s",
        "outputId": "790b31f2-d619-49e2-fb13-a09f4aba985a"
      },
      "source": [
        "df = 0\n",
        "\n",
        "for i in range(len(alpha)):\n",
        "    df += alpha[i]*z[i]\n",
        "\n",
        "defuz = int(df/sum(alpha))\n",
        "\n",
        "print(\"Jadi, nilai \",dit,\" adalah \",defuz)"
      ],
      "execution_count": 146,
      "outputs": [
        {
          "output_type": "stream",
          "name": "stdout",
          "text": [
            "Jadi, nilai  produksi  adalah  4983\n"
          ]
        }
      ]
    }
  ]
}